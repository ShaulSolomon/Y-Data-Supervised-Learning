{
 "cells": [
  {
   "cell_type": "markdown",
   "metadata": {
    "colab_type": "text",
    "id": "zD4fRb3dGRaO"
   },
   "source": [
    "# Excerise - Logistic Regression and Classification Measures\n",
    "In this exercise you will explore how hard it is to find the best balance between TPR and FPR. \n",
    "\n",
    "Next, you will implement a logistic regression classifier using gradient decent.\n",
    "\n",
    "We will then turn to applying multi-class classifiers over the well known MNIST digits database, and analyse the results using a confusion matrix."
   ]
  },
  {
   "cell_type": "markdown",
   "metadata": {
    "colab_type": "text",
    "id": "i2p-7eGqNjrp"
   },
   "source": [
    "## Balancing TPR and FPR and interpretability of a classifier results given inbalance between classes\n",
    "After your yearly checkup, the doctor has bad news and good news. The bad news is that you tested positive for a serious disease, and that the test is 99% accurate (i.e. the probability of testing positive given that you have the disease is 0.99, as is the probability of testing negative given that you don’t have the disease). The good news is that this is a rare disease, striking only 1 in 10,000 people. \n",
    "\n",
    "1. What is the accuracy of always predicting a patient is healthy? Would that be a good strategy?\n",
    "\n",
    "2. What are the TPR and FPR of the chosen classifier in this case? Giving that there is a tradeoff between the two --- is it a good point on the ROC curve?\n",
    "\n",
    "3. Why is it good news that the disease is rare? What are the chances that you actually have the disease?\n",
    "\n",
    "4. Taking into account the previous answers, would you say the designer of the classifier made a good choice in this case?\n",
    "\n"
   ]
  },
  {
   "cell_type": "markdown",
   "metadata": {
    "colab_type": "text",
    "id": "cluKn7Rb2LDB"
   },
   "source": [
    "#### Answer 1\n",
    "The accuracy of always predicting a patient is healthy is .9999, which on a regular metric is fanastic. But being that if we incorrectly predict someone they could die - it is a horrible stratergy!"
   ]
  },
  {
   "cell_type": "markdown",
   "metadata": {
    "colab_type": "text",
    "id": "lTLwPg6q3TEg"
   },
   "source": [
    "#### Answer 2\n",
    "TPR = TP / (TP + FN) = <br>(P(Sick) * P(Test-Positive | Sick)) / (P(Sick) * P(Test-Positive | Sick) + P(Sick) * P(Test-Negative | Sick)  =<br> .000099 / (.000099 + .000001) = **.99**\n",
    "<br><br>\n",
    "FPR = FP / (FP + TN) = <br>(P(Not_Sick) * P(Test-Positive | Not_Sick)) / (P(Not_Sick) * P(Test-Positive | Not_Sick) + P(Not_Sick) * P(Test-Negative | Not_Sick)  =<br> .009999 / (.009999 + .989901) = **.01**\n",
    "\n",
    "***Giving that there is a tradeoff between the two --- is it a good point on the ROC curve?***\n",
    "<br>Given the seriousness of the disease, a FPR of .01 is still very bad!"
   ]
  },
  {
   "cell_type": "markdown",
   "metadata": {
    "colab_type": "text",
    "id": "mX39tM4K3UTB"
   },
   "source": [
    "#### Answer 3\n",
    "P(Sick | Test_Positive) = (P(Sick) * P(Test_Positive|Sick)) / (P(Sick) * P(Test_Positive|Sick) + P(Not_Sick) * P(Test_Positive|Not_Sick)) = \n",
    "<br> .000099 / (.000099 + .009999) = **.0098**\n",
    "\n",
    "As we can see, because the disease is rare, even though you tested positive, it's still more likely that it was a misreading!"
   ]
  },
  {
   "cell_type": "markdown",
   "metadata": {
    "colab_type": "text",
    "id": "tISo5Put6P-Q"
   },
   "source": [
    "#### Answer 4\n",
    "It really depends on what one does with the classifier. If the person was sick, we would amputate a limb, it is good that we dont just judge it base off of the test, because as we saw, its still unlikely that the person is sick. However, if getting a positive test result we would run extra tests to make sure said person actually is sick - then no, the classifier is horrible, because we still want to know when someone might be sick!"
   ]
  },
  {
   "cell_type": "markdown",
   "metadata": {
    "colab_type": "text",
    "id": "aJU3fUbuTzKm"
   },
   "source": [
    "## Implementing Logistic Regression Model\n",
    "Recall the loss function of the binary (Univariate) Logistic Regression model\n",
    "\n",
    "$$ J(\\beta)=-\\frac{1}{m}\\sum_{i=1}^{m}\\left(y^{(i)}\\log(h_\\beta(x^{(i)}))+(1-y^{(i)})\\log(1-h_\\beta(x^{(i)}))\\right) $$\n",
    "\n",
    "and the gradient decent update rule is given by\n",
    "\n",
    "$$ \\beta_j^t := \\beta_j^{t-1}-\\mu\\frac{\\partial}{\\partial \\beta_j}J(\\beta)\n",
    "$$\n",
    "\n",
    "1. Write the explicit (and rather simple) update rule for a gradient decent solver of the Logistic Regression model.\n",
    "2. Implement a LogisticRegression class with `fit`, `predict`, and `score` functions, and the constructor of the class should have the following parameters (feel free to add methods and parameters as you see fit):\n",
    "  * `method`: either `GD` or `SGD`, indiacting whether to use a regular gradient decent, or an [iterative stochastic gradient descent](https://en.wikipedia.org/wiki/Stochastic_gradient_descent#Iterative_method) respectively.\n",
    "  * `learning_rate`: the learning rate to be used\n",
    "  * `num_iterations`: number of iterations for the gradient decent algorithms (**note** that for stochastic gradient decent, each iteration is interpreted in that aspect as an epoch of going over all the samples, as it is computationaly similar to a single iteration of regular gradient decent)\n",
    "  * `track_loss`: a boolean stating if to track the loss of the model for each iteration during training; if `True` the model will have a `loss` vector with the loss that was claculated for each of the iterations.\n",
    "3. Use the provided code to load the Iris dataset as a toy example, on which we will compare the results of the two logistic regression solvers. Run both solvers (GD and SGD) for 1000 iterations, using a learning rate of 0.1, and compare the learning curve by plotting the loss during training. Describe the results, and plot the decision boundary for each of the models. What would you see if you plot the loss after each parameters update (for each sample in every epoch)?\n",
    " \n",
    " \n",
    "For simplicity, do not use regularization, and we will not try to find the best learning rate --- however, you are more than welcome to play with those on your own.\n"
   ]
  },
  {
   "cell_type": "markdown",
   "metadata": {
    "colab_type": "text",
    "id": "NdPNRWM_IBPi"
   },
   "source": [
    "#### Answer 1\n",
    "w = w - alpha*(1/m)*X*(a-y) where a = sigma(z), where z = w.T * X"
   ]
  },
  {
   "cell_type": "markdown",
   "metadata": {
    "colab_type": "text",
    "id": "L8iLGpsGIA_M"
   },
   "source": [
    "#### Answer 2"
   ]
  },
  {
   "cell_type": "code",
   "execution_count": 543,
   "metadata": {},
   "outputs": [
    {
     "data": {
      "text/plain": [
       "0"
      ]
     },
     "execution_count": 543,
     "metadata": {},
     "output_type": "execute_result"
    }
   ],
   "source": [
    "ynew = y.reshape(1,-1)\n",
    "ynew[0,7]"
   ]
  },
  {
   "cell_type": "code",
   "execution_count": 1,
   "metadata": {},
   "outputs": [],
   "source": [
    "import numpy as np\n",
    "from sklearn.preprocessing import StandardScaler\n",
    "from sklearn import datasets\n",
    "import matplotlib.pyplot as plt"
   ]
  },
  {
   "cell_type": "code",
   "execution_count": 17,
   "metadata": {
    "colab": {},
    "colab_type": "code",
    "id": "KbOu0SufINrz"
   },
   "outputs": [],
   "source": [
    "def scalingfeatures(X):\n",
    "    scaler = StandardScaler()\n",
    "    scaler.fit(X)\n",
    "    return scaler.transform(X)\n",
    "\n",
    "def sigmoid(z):\n",
    "    return 1 / (1 + np.exp(-z))\n",
    "\n",
    "class LogisticRegression():\n",
    "    \n",
    "    def __init__(self, method = \"GD\", lr = 0.1, num_iter = 1000, track_loss = True, count_every_loss = False):\n",
    "        self.method = method\n",
    "        self.lr = lr\n",
    "        self.num_iter = num_iter\n",
    "        self.track_loss = track_loss\n",
    "        self.count_every_loss = count_every_loss\n",
    "    \n",
    "    def fit(self,X,y):\n",
    "        #Unlike my previous homework, I can going to assume that scaling was already done before calling the function.\n",
    "        #padding\n",
    "        XX = np.concatenate((np.ones((X.shape[0],1)),X),axis=1)\n",
    "        np.random.seed(42)\n",
    "        if self.track_loss:\n",
    "            loss = list()\n",
    "        #initialize weights\n",
    "        weights = np.random.rand(XX.shape[1],1)\n",
    "        m = XX.shape[0]\n",
    "        if self.method == \"GD\":\n",
    "            XX, y = XX.T, y.reshape(1,-1)  \n",
    "            #Unlike my previous homework, where I preformed GD via pytorch, I will implement it here with simple vector multiplication\n",
    "            for i in range(self.num_iter):\n",
    "                z = np.dot(weights.T,XX)\n",
    "                #sigmoid function\n",
    "                a = 1/(1 + np.exp(-z))\n",
    "                if self.track_loss:\n",
    "                    J = -1/m * np.sum(y * np.log(a)  + (1 - y)*np.log(1 - a))                    \n",
    "                    loss.append(np.squeeze(J))\n",
    "                dz = a-y\n",
    "                dw = (1 / m) * np.dot(XX, dz.T)\n",
    "                weights -= self.lr * dw\n",
    "                \n",
    "        elif self.method == \"SGD\":\n",
    "            y = y.reshape(1,-1)\n",
    "            np.random.seed(42)\n",
    "            for i in range(self.num_iter):\n",
    "                J = 0\n",
    "                order = np.random.choice(m, size=m, replace=False)\n",
    "                for idx in order:\n",
    "                    dw = 0\n",
    "                    X_row = XX[idx,:].T.reshape(-1,1)\n",
    "                    y_row = y[0,idx].reshape(1,1)\n",
    "                    z = np.dot(weights.T,X_row)\n",
    "                    a = 1/(1 + np.exp(-z))\n",
    "                    #due to proximation errors, we were getting a == 1 or 0, which is an issues because log(0) is undefined\n",
    "                    if a == 1:\n",
    "                        a -= 1e-15\n",
    "                    elif a == 0:\n",
    "                        a += 1e-15\n",
    "                    if self.track_loss: \n",
    "                        new_loss = -1 * (y_row * np.log(a)  + (1 - y_row)*np.log(1 - a))\n",
    "                        if self.count_every_loss:\n",
    "                            loss.append(new_loss)\n",
    "                        J += new_loss\n",
    "                    dz = a - y_row\n",
    "                    dw += np.dot(X_row.reshape(-1,1),dz.T.reshape(-1,1))\n",
    "                    weights -= self.lr * dw\n",
    "                if self.track_loss and not self.count_every_loss:\n",
    "                        loss.append(np.squeeze(J))                   \n",
    "        else:\n",
    "            raise ValueError(\"Method \\\"{}\\\" is not known by our Algorithm\".format(self.method))\n",
    "            \n",
    "        self.loss = loss\n",
    "        self.w = weights\n",
    "        \n",
    "        return self\n",
    "    \n",
    "    def predict_prob(self,X):\n",
    "        return sigmoid(np.concatenate((np.ones((X.shape[0],1)),X),axis=1)@self.w)\n",
    "    \n",
    "    def score(self,X,y):\n",
    "        return np.power((self.predict(X) - y),2).mean()\n",
    "    \n",
    "    def predict(self, X, threshold=0.5):\n",
    "        c1 = self.predict_prob(X)\n",
    "        results = np.zero(X.shape[0])\n",
    "        results[c1 > threshold] = 1\n",
    "        return results"
   ]
  },
  {
   "cell_type": "code",
   "execution_count": 18,
   "metadata": {},
   "outputs": [
    {
     "data": {
      "image/png": "[encoded data removed]",
      "text/plain": [
       "<Figure size 864x576 with 1 Axes>"
      ]
     },
     "metadata": {
      "needs_background": "light"
     },
     "output_type": "display_data"
    }
   ],
   "source": [
    "iris = datasets.load_iris()\n",
    "\n",
    "#The issue with this data\n",
    "\n",
    "X = iris.data[:100, :2]  # we only take the first two features.\n",
    "y = iris.target[:100]\n",
    "\n",
    "X = scalingfeatures(X)\n",
    "\n",
    "plt.figure(figsize=(12,8))\n",
    "train = LogisticRegression(method=\"GD\").fit(X,y)\n",
    "plt.plot(train.loss, c=\"red\");\n",
    "train2 = LogisticRegression(method=\"SGD\").fit(X,y)\n",
    "plt.plot(train2.loss, c=\"blue\")\n",
    "plt.legend(['Gradient Descent','Stochastic Gradient Descent'])\n",
    "plt.ylim(0,5);"
   ]
  },
  {
   "cell_type": "markdown",
   "metadata": {},
   "source": [
    "**Compare the learning curve by plotting the loss during training:**\n",
    "Overlaying the plots one above the other shows me that the SGD Model converges to 0 much faster. This is a slightly unfair analysis, because in every iteration, SGD is running Gradient Descent `m` times, and therefore after ten iterations, has already run 1000 iterations. Even still, at 10 iterations, SGD is better than GD is at 1000 iterations."
   ]
  },
  {
   "cell_type": "markdown",
   "metadata": {
    "colab_type": "text",
    "id": "fRUqZ0M7IQLU"
   },
   "source": [
    "#### Answer 3"
   ]
  },
  {
   "cell_type": "markdown",
   "metadata": {
    "colab_type": "text",
    "id": "NnnR-uJtIgQN"
   },
   "source": [
    "Below is the code for loading the iris dataset and plotting the data with the models decision boundary."
   ]
  },
  {
   "cell_type": "code",
   "execution_count": 19,
   "metadata": {
    "colab": {},
    "colab_type": "code",
    "id": "gTPXizogHYMm"
   },
   "outputs": [],
   "source": [
    "from sklearn.datasets import load_iris\n",
    "iris = load_iris()\n",
    "X = iris.data[:, :2]\n",
    "y = (iris.target != 0) * 1"
   ]
  },
  {
   "cell_type": "code",
   "execution_count": 20,
   "metadata": {
    "colab": {},
    "colab_type": "code",
    "id": "AY78klr3H4JD"
   },
   "outputs": [
    {
     "name": "stdout",
     "output_type": "stream",
     "text": [
      "(2500, 2)\n",
      "(50, 50) (50, 50)\n"
     ]
    },
    {
     "name": "stderr",
     "output_type": "stream",
     "text": [
      "/Users/Adam/.pyenv/versions/jupyter/lib/python3.7/site-packages/ipykernel_launcher.py:14: UserWarning: The following kwargs were not used by contour: 'label'\n",
      "  \n",
      "/Users/Adam/.pyenv/versions/jupyter/lib/python3.7/site-packages/ipykernel_launcher.py:17: UserWarning: The following kwargs were not used by contour: 'label'\n"
     ]
    },
    {
     "data": {
      "image/png": "[encoded data removed]",
      "text/plain": [
       "<Figure size 432x288 with 1 Axes>"
      ]
     },
     "metadata": {
      "needs_background": "light"
     },
     "output_type": "display_data"
    }
   ],
   "source": [
    "import matplotlib.pyplot as plt\n",
    "def plot_samples(X, y, gd_model=None, sgd_model=None):\n",
    "    plt.scatter(X[y == 0][:, 0], X[y == 0][:, 1], color='b', label='0')\n",
    "    plt.scatter(X[y == 1][:, 0], X[y == 1][:, 1], color='r', label='1')\n",
    "  \n",
    "    x1_min, x1_max = X[:,0].min(), X[:,0].max(),\n",
    "    x2_min, x2_max = X[:,1].min(), X[:,1].max(),\n",
    "    xx1, xx2 = np.meshgrid(np.linspace(x1_min, x1_max), np.linspace(x2_min, x2_max))\n",
    "    grid = np.c_[xx1.ravel(), xx2.ravel()]\n",
    "    if gd_model is not None:\n",
    "        probs = gd_model.predict_prob(grid).reshape(xx1.shape)\n",
    "        plt.contour(xx1, xx2, probs, [0.5], linewidths=1, colors='black', label='GD')\n",
    "    if sgd_model is not None:\n",
    "        probs = sgd_model.predict_prob(grid).reshape(xx1.shape)\n",
    "        plt.contour(xx1, xx2, probs, [0.5], linewidths=1, colors='green', label='SGD')\n",
    "    plt.legend();\n",
    "\n",
    "train = LogisticRegression(method=\"GD\").fit(X,y)\n",
    "train2 = LogisticRegression(method=\"SGD\").fit(X,y)\n",
    "plot_samples(X,y,train,train2)"
   ]
  },
  {
   "cell_type": "markdown",
   "metadata": {},
   "source": [
    "Overall the Logistic Regression model works pretty well, there is one case where the model would mispredict a flower, but that might be due to the fact that all flowers of class 2 are being classified as being part of class 1...\n",
    "\n",
    "**What would you see if you plot the loss after each parameters update (for each sample in every epoch?**"
   ]
  },
  {
   "cell_type": "code",
   "execution_count": 21,
   "metadata": {},
   "outputs": [
    {
     "data": {
      "image/png": "[encoded data removed]",
      "text/plain": [
       "<Figure size 864x576 with 1 Axes>"
      ]
     },
     "metadata": {
      "needs_background": "light"
     },
     "output_type": "display_data"
    }
   ],
   "source": [
    "X = iris.data[:100, :2]  # we only take the first two features.\n",
    "y = iris.target[:100]\n",
    "\n",
    "X = scalingfeatures(X)\n",
    "\n",
    "plt.figure(figsize=(12,8))\n",
    "train2 = LogisticRegression(method=\"SGD\", count_every_loss=True).fit(X,y)\n",
    "plt.plot(np.array(train2.loss).reshape(-1,1));"
   ]
  },
  {
   "cell_type": "markdown",
   "metadata": {},
   "source": [
    "***Although it is hard to see, the loss is fluctuating between small and large values, while continously improving.***\n",
    "That is until it somewhat converges...not in the sense that the loss is the same for every X value, but that the maximum loss (furthest distance for a given X from the linear line) is consistent because our model as a whole is converging."
   ]
  },
  {
   "cell_type": "markdown",
   "metadata": {
    "colab_type": "text",
    "id": "TQVMUZkQHlm2"
   },
   "source": [
    "## Classifying Digits\n",
    "In this part we will test digits classification on the MNIST dataset, using Multivariate Logistic Regression (a discriminative model). \n",
    "\n",
    "The MNIST dataset contains 28x28 grayscale images of handwritten digits between 0 and 9 (10 classes). For mathmatical analysis clarity, and for matching expected API, each image faltten to create a 1D array with 784 elements."
   ]
  },
  {
   "cell_type": "markdown",
   "metadata": {
    "colab_type": "text",
    "id": "Cjwjk6pzLE-y"
   },
   "source": [
    "### Loading the MNIST dataset\n",
    "Load the MNIST data set. The digits dataset is one of datasets scikit-learn comes with that do not require the downloading of any file from some external website. Use \n",
    ">```mnist = sklearn.datasets.fetch_mldata('MNIST original')```\n",
    "\n",
    "to fetch the original data. You may set the `data_home` to where you wish to download your data for caching. Each image is already transformed into a 1D integer array $x\\in [0,255]^{784}$, and the corresponding label is an integer $y\\in [0,9]$.\n",
    "\n",
    "Plot a single sample of each digit as the original image, so you get a feeling how the data looks like.\n",
    "\n",
    "Finally, divide your data into train and test sets, using 1/7 of the data for testing.\n",
    "\n",
    "---\n",
    "**Note:** Using `digits = sklearn.datasets.load_digits()` will only fetch a very small sample of the original set, with images resized to 8x8. This preprocessing of the data reduces dimensionality and gives invariance to small distortions - however, we will use the original data in this exercise. Feel free to test the proformance of the algorithms below on the preprocessed data as well.\n"
   ]
  },
  {
   "cell_type": "code",
   "execution_count": 22,
   "metadata": {},
   "outputs": [],
   "source": [
    "from sklearn import datasets\n",
    "from sklearn.model_selection import train_test_split"
   ]
  },
  {
   "cell_type": "code",
   "execution_count": 23,
   "metadata": {
    "colab": {},
    "colab_type": "code",
    "id": "05Om0QLxBvvT",
    "scrolled": true
   },
   "outputs": [
    {
     "name": "stderr",
     "output_type": "stream",
     "text": [
      "/Users/Adam/.ve/yandex/lib/python3.7/site-packages/sklearn/datasets/_openml.py:55: RuntimeWarning: Invalid cache, redownloading file\n",
      "  warn(\"Invalid cache, redownloading file\", RuntimeWarning)\n"
     ]
    }
   ],
   "source": [
    "# your code\n",
    "mnist_data, mnist_labels = datasets.fetch_openml('mnist_784',return_X_y=True)"
   ]
  },
  {
   "cell_type": "code",
   "execution_count": 24,
   "metadata": {},
   "outputs": [
    {
     "data": {
      "text/plain": [
       "'5'"
      ]
     },
     "execution_count": 24,
     "metadata": {},
     "output_type": "execute_result"
    },
    {
     "data": {
      "image/png": "[encoded data removed]",
      "text/plain": [
       "<Figure size 432x288 with 1 Axes>"
      ]
     },
     "metadata": {
      "needs_background": "light"
     },
     "output_type": "display_data"
    }
   ],
   "source": [
    "plt.imshow(mnist_data[0].reshape(28,28))\n",
    "mnist_labels[0]"
   ]
  },
  {
   "cell_type": "code",
   "execution_count": 26,
   "metadata": {},
   "outputs": [],
   "source": [
    "X_train, X_test, y_train, y_test = train_test_split(mnist_data, mnist_labels, test_size=10000, random_state=42)"
   ]
  },
  {
   "cell_type": "markdown",
   "metadata": {
    "colab_type": "text",
    "id": "6Jv-ecdm6uTg"
   },
   "source": [
    "### Multivariate Logistic Regression\n",
    "We will now apply the Multivariate Logistic Regression model discriminative model for this problem. We will use a prepared implementation of the model, so you won't need to implement it.\n",
    "\n",
    "In this part we will keep the pixel values in grayscale, and assume the probability of each image being classified as one of the 10 digit classes, matches some multivariate logistic function."
   ]
  },
  {
   "cell_type": "markdown",
   "metadata": {
    "colab_type": "text",
    "id": "PU3K28Yu6uTh"
   },
   "source": [
    "#### Question 1\n",
    "Run a Multivariate Logitic Regression classifier on the training data and apply predictions on the test data. Use the [sklearn.linear_model.LogisticRegression](http://scikit-learn.org/stable/modules/generated/sklearn.linear_model.LogisticRegression.html) implementation, and set the `solver` to be `'lbfgs'`, and  `multi_class` to `'multinomial'` (leave all other parameters in their default value).\n",
    "\n",
    "1. Plot the confusion matrix of your classifier, as claculated on the test data (it is recommended to use [sklearn.metrics.confusion_matrix](http://scikit-learn.org/stable/modules/generated/sklearn.metrics.confusion_matrix.html)). Calculate the total accuracy (fraction of correctly classified images), and summarize the results in your own words.\n",
    "\n",
    "2. Show some test images which were missclassified (classified incorrectly). Choose one such sample, and output the probability estimates for all classes (use the `predict_proba` function). Describe the results.\n",
    "\n",
    "Note that here we cannot \"generate\" examples from the model."
   ]
  },
  {
   "cell_type": "code",
   "execution_count": 27,
   "metadata": {},
   "outputs": [],
   "source": [
    "from sklearn.linear_model import LogisticRegression as skLR\n",
    "from sklearn.metrics import confusion_matrix\n",
    "import seaborn as sn\n",
    "import pandas as pd"
   ]
  },
  {
   "cell_type": "code",
   "execution_count": 28,
   "metadata": {},
   "outputs": [
    {
     "name": "stderr",
     "output_type": "stream",
     "text": [
      "/Users/Adam/.ve/yandex/lib/python3.7/site-packages/sklearn/linear_model/_logistic.py:939: ConvergenceWarning: lbfgs failed to converge (status=1):\n",
      "STOP: TOTAL NO. of ITERATIONS REACHED LIMIT.\n",
      "\n",
      "Increase the number of iterations (max_iter) or scale the data as shown in:\n",
      "    https://scikit-learn.org/stable/modules/preprocessing.html.\n",
      "Please also refer to the documentation for alternative solver options:\n",
      "    https://scikit-learn.org/stable/modules/linear_model.html#logistic-regression\n",
      "  extra_warning_msg=_LOGISTIC_SOLVER_CONVERGENCE_MSG)\n"
     ]
    },
    {
     "name": "stdout",
     "output_type": "stream",
     "text": [
      "The accuracy of our confusion matrix is:  0.9189\n"
     ]
    },
    {
     "data": {
      "image/png": "[encoded data removed]",
      "text/plain": [
       "<Figure size 1296x576 with 2 Axes>"
      ]
     },
     "metadata": {
      "needs_background": "light"
     },
     "output_type": "display_data"
    }
   ],
   "source": [
    "LR = skLR(solver='lbfgs',multi_class='multinomial').fit(X_train,y_train)\n",
    "y_hat = LR.predict(X_test)\n",
    "\n",
    "cfm = np.array(confusion_matrix(y_test,y_hat))\n",
    "df_cm = pd.DataFrame(cfm, range(10),\n",
    "                  range(10))\n",
    "plt.figure(figsize = (18,8))\n",
    "sn.set(font_scale=1.2)#for label size\n",
    "ax = sn.heatmap(df_cm, annot=True, annot_kws={\"size\": 12})\n",
    "# bottom, top = ax.get_ylim()\n",
    "# ax.set_ylim(bottom + 0.5, top - 0.5);\n",
    "\n",
    "#To calculate accuracy:\n",
    "diagonal_sum = cfm.trace()\n",
    "sum_of_all_elements = cfm.sum()\n",
    "print(\"The accuracy of our confusion matrix is: \", diagonal_sum / sum_of_all_elements) "
   ]
  },
  {
   "cell_type": "markdown",
   "metadata": {},
   "source": [
    "As we can see with the confusion matrix heatmap, and confirmed with the accuracy, our model has 92% Accuracy, to see the significance of the accuracy, we need to see how biased our original data is:"
   ]
  },
  {
   "cell_type": "code",
   "execution_count": 29,
   "metadata": {},
   "outputs": [
    {
     "data": {
      "text/plain": [
       "array([ 983, 1152,  967, 1034,  906,  937,  961, 1055,  969, 1036])"
      ]
     },
     "execution_count": 29,
     "metadata": {},
     "output_type": "execute_result"
    }
   ],
   "source": [
    "np.bincount(y_test.tolist())"
   ]
  },
  {
   "cell_type": "markdown",
   "metadata": {},
   "source": [
    "The data is quite fairly spread out, which shows us that the model is actual doing a pretty good job of classifying digits, we also see some form of proportionality, where the model makes the same error in both directions, as in it predicts 5 as 3 - 43 times, and predicts 3 as 5 - 26 times.\n",
    "The best way to understand how good the model is though, is to see a few of the mistakes and understand if the model is flawed of the examples themselves easily lend themselves to be misunderstood."
   ]
  },
  {
   "cell_type": "code",
   "execution_count": 30,
   "metadata": {},
   "outputs": [],
   "source": [
    "mistake_3 = np.where((y_hat == '3') & (y_test == '5'))[0][0]\n",
    "mistake_7 = np.where((y_hat == '7') & (y_test == '9'))[0][0]\n",
    "mistake_8 = np.where((y_hat == '8') & (y_test == '5'))[0][0]"
   ]
  },
  {
   "cell_type": "code",
   "execution_count": 31,
   "metadata": {},
   "outputs": [
    {
     "name": "stdout",
     "output_type": "stream",
     "text": [
      "Actual label:  5\n",
      "Predicted label:  3\n"
     ]
    },
    {
     "data": {
      "image/png": "[encoded data removed]",
      "text/plain": [
       "<Figure size 432x288 with 1 Axes>"
      ]
     },
     "metadata": {},
     "output_type": "display_data"
    }
   ],
   "source": [
    "plt.imshow(X_test[mistake_3].reshape(28,28))\n",
    "print(\"Actual label: \", y_test[mistake_3])\n",
    "print(\"Predicted label: \", y_hat[mistake_3])"
   ]
  },
  {
   "cell_type": "code",
   "execution_count": 32,
   "metadata": {},
   "outputs": [
    {
     "name": "stdout",
     "output_type": "stream",
     "text": [
      "Actual label:  9\n",
      "Predicted label:  7\n"
     ]
    },
    {
     "data": {
      "image/png": "[encoded data removed]",
      "text/plain": [
       "<Figure size 432x288 with 1 Axes>"
      ]
     },
     "metadata": {},
     "output_type": "display_data"
    }
   ],
   "source": [
    "plt.imshow(X_test[mistake_7].reshape(28,28))\n",
    "print(\"Actual label: \", y_test[mistake_7])\n",
    "print(\"Predicted label: \", y_hat[mistake_7])"
   ]
  },
  {
   "cell_type": "code",
   "execution_count": 33,
   "metadata": {},
   "outputs": [
    {
     "name": "stdout",
     "output_type": "stream",
     "text": [
      "Actual label:  5\n",
      "Predicted label:  8\n"
     ]
    },
    {
     "data": {
      "image/png": "[encoded data removed]",
      "text/plain": [
       "<Figure size 432x288 with 1 Axes>"
      ]
     },
     "metadata": {},
     "output_type": "display_data"
    }
   ],
   "source": [
    "plt.imshow(X_test[mistake_8].reshape(28,28))\n",
    "print(\"Actual label: \", y_test[mistake_8])\n",
    "print(\"Predicted label: \", y_hat[mistake_8])"
   ]
  },
  {
   "cell_type": "markdown",
   "metadata": {
    "colab_type": "text",
    "id": "SEWJXu5BclVn"
   },
   "source": [
    "#### Answer 1\n",
    "For the first two of those examples, it is easy to understand that even a solid model would have a hard time correctly classifying those digits.\n",
    "Therefore, even though Accuracy is not the best metric to define a model - it would decently here!"
   ]
  },
  {
   "cell_type": "code",
   "execution_count": 34,
   "metadata": {},
   "outputs": [
    {
     "data": {
      "text/plain": [
       "array([[1.36232134e-03, 7.41307686e-09, 6.10189352e-07, 1.30789374e-02,\n",
       "        4.38208771e-04, 1.04738487e-01, 8.44436512e-07, 4.73396625e-05,\n",
       "        8.43746320e-01, 3.65869242e-02]])"
      ]
     },
     "execution_count": 34,
     "metadata": {},
     "output_type": "execute_result"
    }
   ],
   "source": [
    "LR.predict_proba(X_test[mistake_8].reshape(1,-1))"
   ]
  },
  {
   "cell_type": "markdown",
   "metadata": {},
   "source": [
    "**Describe the results.**\n",
    "\n",
    "The likelihood of it being '8' is 0.8, the likelihood of it being '5' is 0.1, and the rest are more or less irrelevant.\n",
    "\n",
    "Which means that it wasn't completely off in the sense that it was \"struggling\" between 8 and 5, and it could be that the lower half of the number's large curvature maybe the model believe it was 8. However, due to many other obvious signs, such as the obvious empty spaces not found within 8's, perhaps with more training examples, ones where 5 is shown with a larger bottom half, the model will learn to correctly classify such cases!"
   ]
  },
  {
   "cell_type": "markdown",
   "metadata": {
    "colab_type": "text",
    "id": "VNOTlRjZN9xW"
   },
   "source": [
    "#### Question 2\n",
    "Comparing two methods for solving multiclass classification problems: one-vs-rest (OvR), and multinomial.\n",
    "\n",
    "1. Discuss the results, and explain the plots in [Plot multinomial and One-vs-Rest Logistic Regression](https://scikit-learn.org/stable/auto_examples/linear_model/plot_logistic_multinomial.html).\n",
    "\n",
    "2. Create another Logistic Regression classifier, setting now `multi_class` to `'ovr'` (instead of `multinomial`). Leave all other parameters the same. Compare the accuracy of this model with the previous one model. \n",
    "\n",
    "\n"
   ]
  },
  {
   "cell_type": "markdown",
   "metadata": {
    "colab_type": "text",
    "id": "LspgymK47DMx"
   },
   "source": [
    "#### Answer 2\n",
    "The fundamental logic behind Multinomial Logistic Regression is that our loss function is taking into account every possible class, and as such what we end up with, instead of a single 'a' = the likelihood our X_i is equal to class 1, but rather a vector of the possibilites that X_i belongs to each class k. In the plot, we see the boundary lines as for each class seperately, where with a high confidence can we assume that points of that class may lie. As we see, the lines cross over into other classes boundaries, but it isn't relevant because we are calculating each class seperately.\n",
    "\n",
    "The fundamental logic behind One-vs-Rest, is that for k classes, we create a separate logistic regression model where its k_i vs all the other classes combined. We end up choosing the kth class whose model preforms the best.\n",
    "In the plot we see the decision boundary plots where we would divide between class i and all the other classes."
   ]
  },
  {
   "cell_type": "code",
   "execution_count": 35,
   "metadata": {
    "colab": {},
    "colab_type": "code",
    "id": "JOLKjDPk7DMy"
   },
   "outputs": [
    {
     "name": "stderr",
     "output_type": "stream",
     "text": [
      "/Users/Adam/.ve/yandex/lib/python3.7/site-packages/sklearn/linear_model/_logistic.py:939: ConvergenceWarning: lbfgs failed to converge (status=1):\n",
      "STOP: TOTAL NO. of ITERATIONS REACHED LIMIT.\n",
      "\n",
      "Increase the number of iterations (max_iter) or scale the data as shown in:\n",
      "    https://scikit-learn.org/stable/modules/preprocessing.html.\n",
      "Please also refer to the documentation for alternative solver options:\n",
      "    https://scikit-learn.org/stable/modules/linear_model.html#logistic-regression\n",
      "  extra_warning_msg=_LOGISTIC_SOLVER_CONVERGENCE_MSG)\n",
      "/Users/Adam/.ve/yandex/lib/python3.7/site-packages/sklearn/linear_model/_logistic.py:939: ConvergenceWarning: lbfgs failed to converge (status=1):\n",
      "STOP: TOTAL NO. of ITERATIONS REACHED LIMIT.\n",
      "\n",
      "Increase the number of iterations (max_iter) or scale the data as shown in:\n",
      "    https://scikit-learn.org/stable/modules/preprocessing.html.\n",
      "Please also refer to the documentation for alternative solver options:\n",
      "    https://scikit-learn.org/stable/modules/linear_model.html#logistic-regression\n",
      "  extra_warning_msg=_LOGISTIC_SOLVER_CONVERGENCE_MSG)\n",
      "/Users/Adam/.ve/yandex/lib/python3.7/site-packages/sklearn/linear_model/_logistic.py:939: ConvergenceWarning: lbfgs failed to converge (status=1):\n",
      "STOP: TOTAL NO. of ITERATIONS REACHED LIMIT.\n",
      "\n",
      "Increase the number of iterations (max_iter) or scale the data as shown in:\n",
      "    https://scikit-learn.org/stable/modules/preprocessing.html.\n",
      "Please also refer to the documentation for alternative solver options:\n",
      "    https://scikit-learn.org/stable/modules/linear_model.html#logistic-regression\n",
      "  extra_warning_msg=_LOGISTIC_SOLVER_CONVERGENCE_MSG)\n",
      "/Users/Adam/.ve/yandex/lib/python3.7/site-packages/sklearn/linear_model/_logistic.py:939: ConvergenceWarning: lbfgs failed to converge (status=1):\n",
      "STOP: TOTAL NO. of ITERATIONS REACHED LIMIT.\n",
      "\n",
      "Increase the number of iterations (max_iter) or scale the data as shown in:\n",
      "    https://scikit-learn.org/stable/modules/preprocessing.html.\n",
      "Please also refer to the documentation for alternative solver options:\n",
      "    https://scikit-learn.org/stable/modules/linear_model.html#logistic-regression\n",
      "  extra_warning_msg=_LOGISTIC_SOLVER_CONVERGENCE_MSG)\n",
      "/Users/Adam/.ve/yandex/lib/python3.7/site-packages/sklearn/linear_model/_logistic.py:939: ConvergenceWarning: lbfgs failed to converge (status=1):\n",
      "STOP: TOTAL NO. of ITERATIONS REACHED LIMIT.\n",
      "\n",
      "Increase the number of iterations (max_iter) or scale the data as shown in:\n",
      "    https://scikit-learn.org/stable/modules/preprocessing.html.\n",
      "Please also refer to the documentation for alternative solver options:\n",
      "    https://scikit-learn.org/stable/modules/linear_model.html#logistic-regression\n",
      "  extra_warning_msg=_LOGISTIC_SOLVER_CONVERGENCE_MSG)\n",
      "/Users/Adam/.ve/yandex/lib/python3.7/site-packages/sklearn/linear_model/_logistic.py:939: ConvergenceWarning: lbfgs failed to converge (status=1):\n",
      "STOP: TOTAL NO. of ITERATIONS REACHED LIMIT.\n",
      "\n",
      "Increase the number of iterations (max_iter) or scale the data as shown in:\n",
      "    https://scikit-learn.org/stable/modules/preprocessing.html.\n",
      "Please also refer to the documentation for alternative solver options:\n",
      "    https://scikit-learn.org/stable/modules/linear_model.html#logistic-regression\n",
      "  extra_warning_msg=_LOGISTIC_SOLVER_CONVERGENCE_MSG)\n",
      "/Users/Adam/.ve/yandex/lib/python3.7/site-packages/sklearn/linear_model/_logistic.py:939: ConvergenceWarning: lbfgs failed to converge (status=1):\n",
      "STOP: TOTAL NO. of ITERATIONS REACHED LIMIT.\n",
      "\n",
      "Increase the number of iterations (max_iter) or scale the data as shown in:\n",
      "    https://scikit-learn.org/stable/modules/preprocessing.html.\n",
      "Please also refer to the documentation for alternative solver options:\n",
      "    https://scikit-learn.org/stable/modules/linear_model.html#logistic-regression\n",
      "  extra_warning_msg=_LOGISTIC_SOLVER_CONVERGENCE_MSG)\n",
      "/Users/Adam/.ve/yandex/lib/python3.7/site-packages/sklearn/linear_model/_logistic.py:939: ConvergenceWarning: lbfgs failed to converge (status=1):\n",
      "STOP: TOTAL NO. of ITERATIONS REACHED LIMIT.\n",
      "\n",
      "Increase the number of iterations (max_iter) or scale the data as shown in:\n",
      "    https://scikit-learn.org/stable/modules/preprocessing.html.\n",
      "Please also refer to the documentation for alternative solver options:\n",
      "    https://scikit-learn.org/stable/modules/linear_model.html#logistic-regression\n",
      "  extra_warning_msg=_LOGISTIC_SOLVER_CONVERGENCE_MSG)\n",
      "/Users/Adam/.ve/yandex/lib/python3.7/site-packages/sklearn/linear_model/_logistic.py:939: ConvergenceWarning: lbfgs failed to converge (status=1):\n",
      "STOP: TOTAL NO. of ITERATIONS REACHED LIMIT.\n",
      "\n",
      "Increase the number of iterations (max_iter) or scale the data as shown in:\n",
      "    https://scikit-learn.org/stable/modules/preprocessing.html.\n",
      "Please also refer to the documentation for alternative solver options:\n",
      "    https://scikit-learn.org/stable/modules/linear_model.html#logistic-regression\n",
      "  extra_warning_msg=_LOGISTIC_SOLVER_CONVERGENCE_MSG)\n"
     ]
    },
    {
     "name": "stdout",
     "output_type": "stream",
     "text": [
      "The accuracy of our confusion matrix is:  0.9143\n"
     ]
    },
    {
     "name": "stderr",
     "output_type": "stream",
     "text": [
      "/Users/Adam/.ve/yandex/lib/python3.7/site-packages/sklearn/linear_model/_logistic.py:939: ConvergenceWarning: lbfgs failed to converge (status=1):\n",
      "STOP: TOTAL NO. of ITERATIONS REACHED LIMIT.\n",
      "\n",
      "Increase the number of iterations (max_iter) or scale the data as shown in:\n",
      "    https://scikit-learn.org/stable/modules/preprocessing.html.\n",
      "Please also refer to the documentation for alternative solver options:\n",
      "    https://scikit-learn.org/stable/modules/linear_model.html#logistic-regression\n",
      "  extra_warning_msg=_LOGISTIC_SOLVER_CONVERGENCE_MSG)\n"
     ]
    }
   ],
   "source": [
    "LR = skLR(solver='lbfgs',multi_class='ovr').fit(X_train,y_train)\n",
    "y_pred = LR.predict(X_test)\n",
    "\n",
    "cfm = np.array(confusion_matrix(y_test,y_pred))\n",
    "#To calculate accuracy:\n",
    "diagonal_sum = cfm.trace()\n",
    "sum_of_all_elements = cfm.sum()\n",
    "print(\"The accuracy of our confusion matrix is: \", diagonal_sum / sum_of_all_elements) "
   ]
  },
  {
   "cell_type": "markdown",
   "metadata": {},
   "source": [
    "One-vs-rest did slightly worse with .91 instead of .92"
   ]
  }
 ],
 "metadata": {
  "colab": {
   "collapsed_sections": [],
   "name": "Logistic Regression and Classification Measures - Exercise.ipynb",
   "provenance": []
  },
  "kernelspec": {
   "display_name": "Python 3",
   "language": "python",
   "name": "python3"
  },
  "language_info": {
   "codemirror_mode": {
    "name": "ipython",
    "version": 3
   },
   "file_extension": ".py",
   "mimetype": "text/x-python",
   "name": "python",
   "nbconvert_exporter": "python",
   "pygments_lexer": "ipython3",
   "version": "3.7.5"
  }
 },
 "nbformat": 4,
 "nbformat_minor": 1
}
