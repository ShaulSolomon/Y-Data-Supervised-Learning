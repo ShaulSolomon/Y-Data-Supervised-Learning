{
 "cells": [
  {
   "cell_type": "markdown",
   "metadata": {
    "colab_type": "text",
    "id": "Cg047ujRBmtU"
   },
   "source": [
    "import matplotlib.pyplot as plt\n",
    "import seaborn as sns\n",
    "import pandas as pd\n",
    "# ^^^ pyforest auto-imports - don't write above this line\n",
    "# Decision Trees Exercise\n",
    "In this exercise you will show that ID3 is sub-optimal. Implement a simple version of Random Forest, and will then apply a Decision Tree classsifier and random forest on the MNIST hand written digits dataset that we already saw."
   ]
  },
  {
   "cell_type": "markdown",
   "metadata": {
    "colab_type": "text",
    "id": "osXAmT5y4iM8"
   },
   "source": [
    "## Suboptimality of ID3\n",
    "Consider the following training set, where $\\mathcal{X} = \\{0, 1\\}^3$ and $\\mathcal{Y} =\\{0, 1\\}$:\n",
    "\n",
    "$$\n",
    "\\begin{aligned}\n",
    "((1, 1, 1), 1)\\\\\n",
    "((1, 0, 0), 1)\\\\\n",
    "((1, 1, 0), 0)\\\\\n",
    "((0, 0, 1), 0)\n",
    "\\end{aligned}\n",
    "$$\n",
    "\n",
    "Suppose we wish to use this training set in order to build a decision tree of depth 2 (i.e. for each\n",
    "input we are allowed to ask two questions of the form \"$x_i = 0$?\" before deciding on the label).\n",
    "\n",
    "1. Suppose we run the ID3 algorithm up to depth 2 (namely, we pick the root node and its\n",
    "children according to the algorithm, but instead of keeping on with the recursion, we stop\n",
    "and pick leaves according to the majority label in each subtree, once we reach depth 2). \n",
    "Assume that the subroutine used to measure the quality of each feature is based on the information gain, and that if two features get the same score, one of them is picked arbitrarily. \n",
    "Show that the training error of the resulting decision tree is at least 1/4.\n",
    "2. Find a decision tree of depth 2, which attains zero training error.\n"
   ]
  },
  {
   "cell_type": "markdown",
   "metadata": {
    "colab_type": "text",
    "id": "xC7Anlwu50XD"
   },
   "source": [
    "#### Answer\n",
    "Put your answer here..."
   ]
  },
  {
   "cell_type": "markdown",
   "metadata": {
    "colab_type": "text",
    "id": "tLXpoHg64HlD"
   },
   "source": [
    "## Implementing Random Forest From Scratch\n",
    "In this exercise you will need to implement a simple version of Random Forest Regressor from scratch. Your decision tree will handle **continuous input and output** (this should actually work also for binary input attributes). \n",
    "\n",
    "* Compelete the skeleton class below (hint: you should also create a `DecisionTree` class that the `TreeEnsemble` will use)\n",
    "  - `X` is a matrix of data values (rows are samples, columns are attributes)\n",
    "  - `y` is a vector of corresponding target values\n",
    "  - `n_trees` is the number of trees to create\n",
    "  - `sample_sz` is the size of the sample set to use of each of the trees in the forest (chose the samples randomly, with or without repetition)\n",
    "  - `min_leaf` is the minimal number of samples in each leaf node of each tree in the forest\n",
    "  \n",
    "* For splitting criterion, use either **\"Train Squared Error Minimization (Reduction in Variance)\"** or **\"Train Absolute Error Minimization\"** (choose one). Whatever you choose, make sure you implement the splitting point decision efficiently (in $O(n)$ time).\n",
    "\n",
    "* The `predict` function will use mean of the target values in the leaf node matching each row of the given `X`. The result is a vector of predictions matching the number of rows in `X`.\n",
    "\n",
    "* The `oob_mse` function will compute the mean squared error over all **out of bag (oob)** samples. That is, for each sample calculate the squared error using  predictions from the trees that do not contain x in their respective bootstrap sample, then average this score for all samples. See:  [OOB Errors for Random Forests](https://scikit-learn.org/stable/auto_examples/ensemble/plot_ensemble_oob.html).\n",
    "\n",
    "* To check your random forest implementation, use the bostom dataset (`from sklearn.datasets import load_boston`)\n",
    "\n",
    "  - Use the following to estimate what are the best hyper parameters to use for your model\n",
    "```\n",
    "for n in [1,5,10,20,50,100]:\n",
    "  for sz in [50,100,300,500]:\n",
    "    for min_leaf in [1,5]:\n",
    "      forest = TreeEnsemble(X, y, n, sz, min_leaf)\n",
    "      mse = forest.oob_mse()\n",
    "      print(\"n_trees:{0}, sz:{1}, min_leaf:{2} --- oob mse: {3}\".format(n, sz, min_leaf, mse))\n",
    "```\n",
    "  \n",
    "  - Using your chosen hyperparameters as a final model, plot the predictions vs. true values of all the samples in the training set . Use something like:\n",
    "  ```\n",
    "  y_hat = forest.predict(X)  # forest is the chosen model\n",
    "  plt.scatter(y_hat, y)\n",
    "  ```\n",
    "  \n",
    "\n"
   ]
  },
  {
   "cell_type": "code",
   "execution_count": 1,
   "metadata": {},
   "outputs": [],
   "source": [
    "import numpy as np\n",
    "from scipy.ndimage.interpolation import shift\n",
    "from sklearn.datasets import load_boston"
   ]
  },
  {
   "cell_type": "code",
   "execution_count": 2,
   "metadata": {},
   "outputs": [],
   "source": [
    "class Node:\n",
    "    def __init__(self, predicted_class):\n",
    "        self.predicted_class = predicted_class\n",
    "        self.feature_index = 0\n",
    "        self.threshold = 0\n",
    "        self.left = None\n",
    "        self.right = None\n",
    "        self.is_leaf = False\n",
    "\n",
    "\n",
    "class DecisionTreeClassifier:\n",
    "    def __init__(self, max_depth=50, min_leaf=1):\n",
    "        self.max_depth = max_depth\n",
    "        self.min_leaf = min_leaf\n",
    "\n",
    "    def fit(self, X, y):\n",
    "        self.n_classes_ = len(set(y))\n",
    "        self.n_features_ = X.shape[1]\n",
    "        self.tree_ = self._grow_tree(X, y)\n",
    "\n",
    "    def predict(self, X):\n",
    "        return [self._predict(inputs) for inputs in X]\n",
    "\n",
    "    def _best_split(self, X, y):\n",
    "        m = y.size\n",
    "        if m <= self.min_leaf:\n",
    "            return None, None\n",
    "        _, num_parent = np.unique(y, return_counts=True)\n",
    "        best_error = np.inf\n",
    "        best_idx, best_thr = None, None\n",
    "        for idx in range(self.n_features_):\n",
    "            sort_idx = np.argsort(X[:, idx])\n",
    "            thresholds = X[sort_idx, idx]\n",
    "            thresholds = thresholds[self.min_leaf:-self.min_leaf+1]\n",
    "            for thresh in thresholds:\n",
    "                left = y[X[:, idx] < thresh]\n",
    "                right = y[X[:, idx] >= thresh]\n",
    "                left_error = np.sum(np.abs(left - left.mean()))\n",
    "                right_error = np.sum(np.abs(right - right.mean()))\n",
    "                error = left_error + right_error\n",
    "                if error < best_error:\n",
    "                    best_error = error\n",
    "                    best_idx, best_thr = idx, thresh\n",
    "        return best_idx, best_thr\n",
    "\n",
    "    def _grow_tree(self, X, y, depth=0):\n",
    "        predicted_class = y.mean()\n",
    "        node = Node(predicted_class=predicted_class)\n",
    "        if depth < self.max_depth:\n",
    "            idx, thr = self._best_split(X, y)\n",
    "            if idx is not None:\n",
    "                indices_left = X[:, idx] < thr\n",
    "                X_left, y_left = X[indices_left], y[indices_left]\n",
    "                X_right, y_right = X[~indices_left], y[~indices_left]\n",
    "                node.feature_index = idx\n",
    "                node.threshold = thr\n",
    "                node.left = self._grow_tree(X_left, y_left, depth + 1)\n",
    "                node.right = self._grow_tree(X_right, y_right, depth + 1)\n",
    "        return node\n",
    "\n",
    "    def _predict(self, inputs):\n",
    "        node = self.tree_\n",
    "        while node.left:\n",
    "            if inputs[node.feature_index] < node.threshold:\n",
    "                node = node.left\n",
    "            else:\n",
    "                node = node.right\n",
    "        return node.predicted_class    "
   ]
  },
  {
   "cell_type": "code",
   "execution_count": 3,
   "metadata": {
    "colab": {},
    "colab_type": "code",
    "id": "QA54r4DiQDkM"
   },
   "outputs": [],
   "source": [
    "class TreeEnsemble():\n",
    "    def __init__(self, n_trees=10, sample_sz=750, min_leaf=5, max_depth=50):\n",
    "        self.n_trees = n_trees\n",
    "        self.sample_sz = sample_sz\n",
    "        self.min_leaf = min_leaf\n",
    "        self.max_depth = max_depth\n",
    "  \n",
    "    def fit(self, X, y):\n",
    "        self.trees = {}\n",
    "        self.X = X\n",
    "        self.y = y\n",
    "        for i in range(self.n_trees):\n",
    "            tree = DecisionTreeClassifier(max_depth=self.max_depth, min_leaf=self.min_leaf)\n",
    "            sample = np.random.randint(0, high=X.shape[0], size=self.sample_sz)\n",
    "            X_sample = X[sample, :]\n",
    "            y_sample = y[sample]\n",
    "            out_of_sample = np.array(list(set(np.arange(X.shape[0])).difference(sample)))\n",
    "            tree.fit(X_sample, y_sample)\n",
    "            self.trees[i] = {'tree': tree, 'sample': sample, 'out_sample': np.array(out_of_sample)}\n",
    "            \n",
    "    def predict(self, X):\n",
    "        y_pred = np.zeros((X.shape[0]))\n",
    "        for tree in self.trees.values():\n",
    "            y_pred += tree['tree'].predict(X)\n",
    "        return y_pred/self.n_trees\n",
    "    \n",
    "    def oob_mse(self):\n",
    "        score = 0\n",
    "        for tree in self.trees.values():\n",
    "            X_test = self.X[tree['out_sample'].reshape(-1),:]\n",
    "            y_test = self.y[tree['out_sample'].reshape(-1)]\n",
    "            y_test_pred = tree['tree'].predict(X_test)\n",
    "            score += np.sum((y_test_pred - y_test)**2)\n",
    "        return score/self.n_trees"
   ]
  },
  {
   "cell_type": "code",
   "execution_count": 4,
   "metadata": {},
   "outputs": [],
   "source": [
    "X, y = load_boston(return_X_y=True)"
   ]
  },
  {
   "cell_type": "code",
   "execution_count": 5,
   "metadata": {},
   "outputs": [
    {
     "name": "stdout",
     "output_type": "stream",
     "text": [
      "n_trees:1, sz:50, min_leaf:1 --- oob mse: 38566.394752\n",
      "n_trees:1, sz:50, min_leaf:5 --- oob mse: 18731.547133333326\n",
      "n_trees:1, sz:100, min_leaf:1 --- oob mse: 33736.438191999994\n"
     ]
    },
    {
     "name": "stderr",
     "output_type": "stream",
     "text": [
      "/Users/Adam/.pyenv/versions/jupyter/lib/python3.7/site-packages/ipykernel_launcher.py:38: RuntimeWarning: Mean of empty slice.\n",
      "/Users/Adam/.ve/yandex/lib/python3.7/site-packages/numpy/core/_methods.py:85: RuntimeWarning: invalid value encountered in double_scalars\n",
      "  ret = ret.dtype.type(ret / rcount)\n"
     ]
    },
    {
     "name": "stdout",
     "output_type": "stream",
     "text": [
      "n_trees:1, sz:100, min_leaf:5 --- oob mse: 13827.142363890463\n",
      "n_trees:1, sz:300, min_leaf:1 --- oob mse: 23812.668919555555\n",
      "n_trees:1, sz:300, min_leaf:5 --- oob mse: 5370.643931067334\n",
      "n_trees:1, sz:500, min_leaf:1 --- oob mse: 15871.684449919998\n"
     ]
    },
    {
     "name": "stderr",
     "output_type": "stream",
     "text": [
      "/Users/Adam/.pyenv/versions/jupyter/lib/python3.7/site-packages/ipykernel_launcher.py:47: RuntimeWarning: Mean of empty slice.\n"
     ]
    },
    {
     "name": "stdout",
     "output_type": "stream",
     "text": [
      "n_trees:1, sz:500, min_leaf:5 --- oob mse: 3468.3318154289495\n",
      "n_trees:5, sz:50, min_leaf:1 --- oob mse: 40069.2975152\n",
      "n_trees:5, sz:50, min_leaf:5 --- oob mse: 15405.260950622955\n",
      "n_trees:5, sz:100, min_leaf:1 --- oob mse: 35833.80423\n",
      "n_trees:5, sz:100, min_leaf:5 --- oob mse: 13425.732252909107\n",
      "n_trees:5, sz:300, min_leaf:1 --- oob mse: 24364.77912482222\n",
      "n_trees:5, sz:300, min_leaf:5 --- oob mse: 6399.1487550059655\n",
      "n_trees:5, sz:500, min_leaf:1 --- oob mse: 17083.396227816\n",
      "n_trees:5, sz:500, min_leaf:5 --- oob mse: 5106.008739362971\n",
      "n_trees:10, sz:50, min_leaf:1 --- oob mse: 39223.8876268\n",
      "n_trees:10, sz:50, min_leaf:5 --- oob mse: 18837.09582278455\n",
      "n_trees:10, sz:100, min_leaf:1 --- oob mse: 35322.836042099996\n",
      "n_trees:10, sz:100, min_leaf:5 --- oob mse: 12587.064088731737\n",
      "n_trees:10, sz:300, min_leaf:1 --- oob mse: 23442.47169762222\n",
      "n_trees:10, sz:300, min_leaf:5 --- oob mse: 7361.445950522892\n",
      "n_trees:10, sz:500, min_leaf:1 --- oob mse: 15805.918627899999\n",
      "n_trees:10, sz:500, min_leaf:5 --- oob mse: 4212.496805042838\n",
      "n_trees:20, sz:50, min_leaf:1 --- oob mse: 40783.54629600001\n",
      "n_trees:20, sz:50, min_leaf:5 --- oob mse: 17535.145868697648\n",
      "n_trees:20, sz:100, min_leaf:1 --- oob mse: 35336.205497\n",
      "n_trees:20, sz:100, min_leaf:5 --- oob mse: 13153.938006561793\n",
      "n_trees:20, sz:300, min_leaf:1 --- oob mse: 23604.59809482222\n",
      "n_trees:20, sz:300, min_leaf:5 --- oob mse: 7880.348045935333\n",
      "n_trees:20, sz:500, min_leaf:1 --- oob mse: 16036.422495697998\n",
      "n_trees:20, sz:500, min_leaf:5 --- oob mse: 4535.688781042349\n",
      "n_trees:50, sz:50, min_leaf:1 --- oob mse: 39913.56064168002\n",
      "n_trees:50, sz:50, min_leaf:5 --- oob mse: 17827.482696825122\n",
      "n_trees:50, sz:100, min_leaf:1 --- oob mse: 35934.647176499995\n",
      "n_trees:50, sz:100, min_leaf:5 --- oob mse: 13389.225997780813\n",
      "n_trees:50, sz:300, min_leaf:1 --- oob mse: 23932.556143824444\n",
      "n_trees:50, sz:300, min_leaf:5 --- oob mse: 7306.230422035222\n",
      "n_trees:50, sz:500, min_leaf:1 --- oob mse: 15264.360462911196\n",
      "n_trees:50, sz:500, min_leaf:5 --- oob mse: 4613.597371987518\n",
      "n_trees:100, sz:50, min_leaf:1 --- oob mse: 39572.88826152002\n",
      "n_trees:100, sz:50, min_leaf:5 --- oob mse: 18165.714086485757\n",
      "n_trees:100, sz:100, min_leaf:1 --- oob mse: 35799.67114117\n",
      "n_trees:100, sz:100, min_leaf:5 --- oob mse: 13168.674509366394\n",
      "n_trees:100, sz:300, min_leaf:1 --- oob mse: 23628.152642634435\n",
      "n_trees:100, sz:300, min_leaf:5 --- oob mse: 6948.988454354311\n",
      "n_trees:100, sz:500, min_leaf:1 --- oob mse: 15764.107851796794\n",
      "n_trees:100, sz:500, min_leaf:5 --- oob mse: 4818.217752510397\n"
     ]
    }
   ],
   "source": [
    "best_mse = np.inf\n",
    "best_forest = None\n",
    "for n in [1,5,10,20,50,100]:\n",
    "    for sz in [50,100,300,500]:\n",
    "        for min_leaf in [1,5]:\n",
    "            forest = TreeEnsemble(n_trees=n, sample_sz=sz, min_leaf=min_leaf)\n",
    "            forest.fit(X, y)\n",
    "            mse = forest.oob_mse()\n",
    "            if mse < best_mse:\n",
    "                best_mse = mse\n",
    "                best_forest = forest\n",
    "            print(\"n_trees:{0}, sz:{1}, min_leaf:{2} --- oob mse: {3}\".format(n, sz, min_leaf, mse))"
   ]
  },
  {
   "cell_type": "code",
   "execution_count": 6,
   "metadata": {},
   "outputs": [
    {
     "data": {
      "application/javascript": [
       "\n",
       "        if (window._pyforest_update_imports_cell) { window._pyforest_update_imports_cell('import matplotlib.pyplot as plt'); }\n",
       "    "
      ],
      "text/plain": [
       "<IPython.core.display.Javascript object>"
      ]
     },
     "metadata": {},
     "output_type": "display_data"
    },
    {
     "data": {
      "image/png": "[encoded data removed]",
      "text/plain": [
       "<Figure size 432x288 with 1 Axes>"
      ]
     },
     "metadata": {
      "needs_background": "light"
     },
     "output_type": "display_data"
    }
   ],
   "source": [
    "y_hat = best_forest.predict(X)  # forest is the chosen model\n",
    "plt.scatter(y_hat, y);"
   ]
  },
  {
   "cell_type": "markdown",
   "metadata": {
    "colab_type": "text",
    "id": "TF5TjNuvTKof"
   },
   "source": [
    "## Using Decision Tree and Random Forest for Digits Classification\n",
    "Remeber the MNIST dataset used - you will now test the power of decision trees on this problem.\n",
    "This time you are given a free hand in choosing the test and train set sizes, model parameters (such as gain function and constraints over the trees) and features (whether to use binary pixel values or the original continous gray value).\n",
    "- Choose which model parameters you wish to optimize, explain how would you do that, and find a model which you believe would have the minimal generalization error --- do this for both a single decision tree model, and a random forest.\n",
    "  - You can use `sklearn.tree.DecisionTreeClassifier` and `sklearn.ensemble.RandomForestClassifier`\n",
    "- Once you are satisfied with the model parameters, plot for each of the models (a single decision tree and random forest) the importance of each of the pixels to the final decision.\n",
    "- Last, estimate the class assignment probabilities for all the correctly classified and misclassified examples in your test data.\n",
    "- Discuss your results."
   ]
  },
  {
   "cell_type": "code",
   "execution_count": 7,
   "metadata": {
    "colab": {},
    "colab_type": "code",
    "id": "8-k9WpIV_n7Y"
   },
   "outputs": [
    {
     "name": "stderr",
     "output_type": "stream",
     "text": [
      "Using TensorFlow backend.\n"
     ]
    }
   ],
   "source": [
    "from sklearn.tree import DecisionTreeClassifier\n",
    "from sklearn.ensemble import RandomForestClassifier\n",
    "from sklearn.model_selection import GridSearchCV\n",
    "from sklearn.pipeline import make_pipeline\n",
    "from sklearn.preprocessing import Binarizer\n",
    "from sklearn.metrics import confusion_matrix\n",
    "from keras.datasets import mnist\n",
    "(X_train, y_train), (X_test, y_test) = mnist.load_data()\n",
    "X_train = X_train.reshape(X_train.shape[0], 784)\n",
    "X_test = X_test.reshape(X_test.shape[0], 784)"
   ]
  },
  {
   "cell_type": "markdown",
   "metadata": {},
   "source": [
    "We want to optimize the gain function, max depth, minimum samples per leaf, max features for both Decision Tree and the Random Forest classifiers, as well as n_estimators for Random Forest. We also want to optimize the binarization threshold. \n",
    "\n",
    "We optimize these parameters by chaining the Binarizer and Classifiers into a pipeline and then running Grid Search, which essentially iterates over all of the possible combinations of parameter settings we provide and chooses the parameter combination which results in the best Cross Validation score.\n",
    "\n",
    "The grid_search object stores the best parameters which can then be used to train the final model.\n",
    "\n",
    "However, it took an unpracticable long time to do even a limited trial of all of the options: a full search of multiple configurations of each parameter (involving more than 2000 different instances) had not finished running after 3 days, so we restricted the search to the parameters indicated below."
   ]
  },
  {
   "cell_type": "code",
   "execution_count": 33,
   "metadata": {},
   "outputs": [
    {
     "name": "stdout",
     "output_type": "stream",
     "text": [
      "Fitting 5 folds for each of 36 candidates, totalling 180 fits\n"
     ]
    },
    {
     "name": "stderr",
     "output_type": "stream",
     "text": [
      "[Parallel(n_jobs=1)]: Using backend SequentialBackend with 1 concurrent workers.\n",
      "[Parallel(n_jobs=1)]: Done 180 out of 180 | elapsed: 52.0min finished\n"
     ]
    },
    {
     "name": "stdout",
     "output_type": "stream",
     "text": [
      "Best score: 0.968\n",
      "Best parameters set:\n",
      "\tbinarizer__threshold: 50\n",
      "\trandomforestclassifier__max_depth: None\n",
      "\trandomforestclassifier__max_features: 'sqrt'\n",
      "\trandomforestclassifier__min_samples_leaf: 1\n"
     ]
    }
   ],
   "source": [
    "binarizer = Binarizer()\n",
    "forest_clf = RandomForestClassifier()\n",
    "forest_pipe = make_pipeline(binarizer, forest_clf)\n",
    "\n",
    "forest_parameters = {\n",
    "    'binarizer__threshold': (0, 50, 100),\n",
    "    'randomforestclassifier__max_depth': (None, 10, 50),\n",
    "    'randomforestclassifier__min_samples_leaf': (1,5),\n",
    "    'randomforestclassifier__max_features': ('sqrt','log2')\n",
    "}\n",
    "\n",
    "forest_grid_search = GridSearchCV(forest_pipe, forest_parameters, verbose=1)\n",
    "forest_grid_search.fit(X_train, y_train)\n",
    "print(\"Best score: %0.3f\" % forest_grid_search.best_score_)\n",
    "print(\"Best parameters set:\")\n",
    "forest_best_parameters = forest_grid_search.best_estimator_.get_params()\n",
    "for param_name in sorted(forest_parameters.keys()):\n",
    "    print(\"\\t%s: %r\" % (param_name, forest_best_parameters[param_name]))"
   ]
  },
  {
   "cell_type": "code",
   "execution_count": 34,
   "metadata": {},
   "outputs": [
    {
     "name": "stdout",
     "output_type": "stream",
     "text": [
      "Fitting 5 folds for each of 54 candidates, totalling 270 fits\n"
     ]
    },
    {
     "name": "stderr",
     "output_type": "stream",
     "text": [
      "[Parallel(n_jobs=1)]: Using backend SequentialBackend with 1 concurrent workers.\n",
      "[Parallel(n_jobs=1)]: Done 270 out of 270 | elapsed: 15.8min finished\n"
     ]
    },
    {
     "name": "stdout",
     "output_type": "stream",
     "text": [
      "Best score: 0.876\n",
      "Best parameters set:\n",
      "\tbinarizer__threshold: 0\n",
      "\tdecisiontreeclassifier__max_depth: 50\n",
      "\tdecisiontreeclassifier__max_features: None\n",
      "\tdecisiontreeclassifier__min_samples_leaf: 1\n"
     ]
    }
   ],
   "source": [
    "binarizer = Binarizer()\n",
    "tree_clf = DecisionTreeClassifier()\n",
    "tree_pipe = make_pipeline(binarizer, tree_clf)\n",
    "\n",
    "tree_parameters = {\n",
    "    'binarizer__threshold': (0, 50, 100),\n",
    "    'decisiontreeclassifier__max_depth': (None, 10, 50),\n",
    "    'decisiontreeclassifier__min_samples_leaf': (1,5),\n",
    "    'decisiontreeclassifier__max_features': ('sqrt','log2', None),\n",
    "}\n",
    "\n",
    "tree_grid_search = GridSearchCV(tree_pipe, tree_parameters, verbose=1)\n",
    "tree_grid_search.fit(X_train, y_train)\n",
    "print(\"Best score: %0.3f\" % tree_grid_search.best_score_)\n",
    "print(\"Best parameters set:\")\n",
    "tree_best_parameters = tree_grid_search.best_estimator_.get_params()\n",
    "for param_name in sorted(tree_parameters.keys()):\n",
    "    print(\"\\t%s: %r\" % (param_name, tree_best_parameters[param_name]))"
   ]
  },
  {
   "cell_type": "code",
   "execution_count": null,
   "metadata": {},
   "outputs": [],
   "source": [
    "binarizer = Binarizer(threshold=0)\n",
    "tree_clf = DecisionTreeClassifier(max_depth=50, max_features=None, min_samples_leaf=1)\n",
    "tree_pipe = make_pipeline(binarizer, tree_clf)\n",
    "tree_pipe.fit(X_train, y_train)\n",
    "tree_importances = tree_clf.feature_importances_\n",
    "tree_indices = np.argsort(tree_importances)[::-1]"
   ]
  },
  {
   "cell_type": "code",
   "execution_count": 21,
   "metadata": {},
   "outputs": [
    {
     "data": {
      "application/javascript": [
       "\n",
       "        if (window._pyforest_update_imports_cell) { window._pyforest_update_imports_cell('import matplotlib.pyplot as plt\\nimport seaborn as sns\\nimport pandas as pd'); }\n",
       "    "
      ],
      "text/plain": [
       "<IPython.core.display.Javascript object>"
      ]
     },
     "metadata": {},
     "output_type": "display_data"
    },
    {
     "data": {
      "application/javascript": [
       "\n",
       "        if (window._pyforest_update_imports_cell) { window._pyforest_update_imports_cell('import matplotlib.pyplot as plt\\nimport seaborn as sns\\nimport pandas as pd'); }\n",
       "    "
      ],
      "text/plain": [
       "<IPython.core.display.Javascript object>"
      ]
     },
     "metadata": {},
     "output_type": "display_data"
    },
    {
     "data": {
      "application/javascript": [
       "\n",
       "        if (window._pyforest_update_imports_cell) { window._pyforest_update_imports_cell('import matplotlib.pyplot as plt\\nimport seaborn as sns\\nimport pandas as pd'); }\n",
       "    "
      ],
      "text/plain": [
       "<IPython.core.display.Javascript object>"
      ]
     },
     "metadata": {},
     "output_type": "display_data"
    },
    {
     "data": {
      "image/png": "[encoded data removed]",
      "text/plain": [
       "<Figure size 432x288 with 1 Axes>"
      ]
     },
     "metadata": {},
     "output_type": "display_data"
    }
   ],
   "source": [
    "plt.title(\"Decision Tree Feature importances\")\n",
    "plt.bar(range(X_train.shape[1]), tree_importances[tree_indices])\n",
    "plt.show();"
   ]
  },
  {
   "cell_type": "code",
   "execution_count": 9,
   "metadata": {},
   "outputs": [
    {
     "data": {
      "application/javascript": [
       "\n",
       "        if (window._pyforest_update_imports_cell) { window._pyforest_update_imports_cell('import matplotlib.pyplot as plt\\nimport pandas as pd'); }\n",
       "    "
      ],
      "text/plain": [
       "<IPython.core.display.Javascript object>"
      ]
     },
     "metadata": {},
     "output_type": "display_data"
    },
    {
     "data": {
      "application/javascript": [
       "\n",
       "        if (window._pyforest_update_imports_cell) { window._pyforest_update_imports_cell('import matplotlib.pyplot as plt\\nimport pandas as pd'); }\n",
       "    "
      ],
      "text/plain": [
       "<IPython.core.display.Javascript object>"
      ]
     },
     "metadata": {},
     "output_type": "display_data"
    },
    {
     "data": {
      "application/javascript": [
       "\n",
       "        if (window._pyforest_update_imports_cell) { window._pyforest_update_imports_cell('import matplotlib.pyplot as plt\\nimport seaborn as sns\\nimport pandas as pd'); }\n",
       "    "
      ],
      "text/plain": [
       "<IPython.core.display.Javascript object>"
      ]
     },
     "metadata": {},
     "output_type": "display_data"
    },
    {
     "data": {
      "application/javascript": [
       "\n",
       "        if (window._pyforest_update_imports_cell) { window._pyforest_update_imports_cell('import matplotlib.pyplot as plt\\nimport seaborn as sns\\nimport pandas as pd'); }\n",
       "    "
      ],
      "text/plain": [
       "<IPython.core.display.Javascript object>"
      ]
     },
     "metadata": {},
     "output_type": "display_data"
    },
    {
     "name": "stdout",
     "output_type": "stream",
     "text": [
      "The accuracy of our confusion matrix is:  0.8899\n",
      "The accuracy for label 0 is 0.9388\n",
      "The accuracy for label 1 is 0.9665\n",
      "The accuracy for label 2 is 0.8886\n",
      "The accuracy for label 3 is 0.8624\n",
      "The accuracy for label 4 is 0.9043\n",
      "The accuracy for label 5 is 0.8352\n",
      "The accuracy for label 6 is 0.9029\n",
      "The accuracy for label 7 is 0.9056\n",
      "The accuracy for label 8 is 0.8018\n",
      "The accuracy for label 9 is 0.8761\n"
     ]
    },
    {
     "data": {
      "image/png": "[encoded data removed]",
      "text/plain": [
       "<Figure size 1296x576 with 2 Axes>"
      ]
     },
     "metadata": {
      "needs_background": "light"
     },
     "output_type": "display_data"
    }
   ],
   "source": [
    "y_pred = tree_clf.predict(binarizer.transform(X_test))\n",
    "\n",
    "cfm = np.array(confusion_matrix(y_test,y_pred))\n",
    "df_cm = pd.DataFrame(cfm, range(10),\n",
    "                  range(10))\n",
    "plt.figure(figsize = (18,8))\n",
    "sns.set(font_scale=1.2)#for label size\n",
    "ax = sns.heatmap(df_cm, annot=True, annot_kws={\"size\": 12})\n",
    "bottom, top = ax.get_ylim()\n",
    "ax.set_ylim(bottom + 0.5, top - 0.5);\n",
    "\n",
    "#To calculate accuracy:\n",
    "diagonal_sum = cfm.trace()\n",
    "sum_of_all_elements = cfm.sum()\n",
    "print(\"The accuracy of our confusion matrix is: \", diagonal_sum / sum_of_all_elements)\n",
    "\n",
    "for i in range(0,10):\n",
    "    acc_i = np.round(cfm[i,i]/sum(cfm[i,:]),4)\n",
    "    print(\"The accuracy for label {} is {}\".format(i, acc_i))"
   ]
  },
  {
   "cell_type": "code",
   "execution_count": 13,
   "metadata": {},
   "outputs": [],
   "source": [
    "binarizer = Binarizer(threshold=50)\n",
    "forest_clf = RandomForestClassifier(max_depth=50, max_features='sqrt', min_samples_leaf=1)\n",
    "forest_pipe = make_pipeline(binarizer, forest_clf)\n",
    "\n",
    "forest_pipe.fit(X_train, y_train)\n",
    "forest_importances = forest_clf.feature_importances_\n",
    "# std = np.std([tree.feature_importances_ for tree in forest_clf.estimators_],axis=0)\n",
    "forest_indices = np.argsort(forest_importances)[::-1]"
   ]
  },
  {
   "cell_type": "code",
   "execution_count": 20,
   "metadata": {},
   "outputs": [
    {
     "data": {
      "application/javascript": [
       "\n",
       "        if (window._pyforest_update_imports_cell) { window._pyforest_update_imports_cell('import matplotlib.pyplot as plt\\nimport seaborn as sns\\nimport pandas as pd'); }\n",
       "    "
      ],
      "text/plain": [
       "<IPython.core.display.Javascript object>"
      ]
     },
     "metadata": {},
     "output_type": "display_data"
    },
    {
     "data": {
      "application/javascript": [
       "\n",
       "        if (window._pyforest_update_imports_cell) { window._pyforest_update_imports_cell('import matplotlib.pyplot as plt\\nimport seaborn as sns\\nimport pandas as pd'); }\n",
       "    "
      ],
      "text/plain": [
       "<IPython.core.display.Javascript object>"
      ]
     },
     "metadata": {},
     "output_type": "display_data"
    },
    {
     "data": {
      "application/javascript": [
       "\n",
       "        if (window._pyforest_update_imports_cell) { window._pyforest_update_imports_cell('import matplotlib.pyplot as plt\\nimport seaborn as sns\\nimport pandas as pd'); }\n",
       "    "
      ],
      "text/plain": [
       "<IPython.core.display.Javascript object>"
      ]
     },
     "metadata": {},
     "output_type": "display_data"
    },
    {
     "data": {
      "image/png": "[encoded data removed]",
      "text/plain": [
       "<Figure size 432x288 with 1 Axes>"
      ]
     },
     "metadata": {},
     "output_type": "display_data"
    }
   ],
   "source": [
    "plt.title(\"Random Forest Feature importances\")\n",
    "plt.bar(range(X_train.shape[1]), forest_importances[forest_indices])\n",
    "plt.show();"
   ]
  },
  {
   "cell_type": "code",
   "execution_count": 11,
   "metadata": {},
   "outputs": [
    {
     "data": {
      "application/javascript": [
       "\n",
       "        if (window._pyforest_update_imports_cell) { window._pyforest_update_imports_cell('import matplotlib.pyplot as plt\\nimport seaborn as sns\\nimport pandas as pd'); }\n",
       "    "
      ],
      "text/plain": [
       "<IPython.core.display.Javascript object>"
      ]
     },
     "metadata": {},
     "output_type": "display_data"
    },
    {
     "data": {
      "application/javascript": [
       "\n",
       "        if (window._pyforest_update_imports_cell) { window._pyforest_update_imports_cell('import matplotlib.pyplot as plt\\nimport seaborn as sns\\nimport pandas as pd'); }\n",
       "    "
      ],
      "text/plain": [
       "<IPython.core.display.Javascript object>"
      ]
     },
     "metadata": {},
     "output_type": "display_data"
    },
    {
     "data": {
      "application/javascript": [
       "\n",
       "        if (window._pyforest_update_imports_cell) { window._pyforest_update_imports_cell('import matplotlib.pyplot as plt\\nimport seaborn as sns\\nimport pandas as pd'); }\n",
       "    "
      ],
      "text/plain": [
       "<IPython.core.display.Javascript object>"
      ]
     },
     "metadata": {},
     "output_type": "display_data"
    },
    {
     "data": {
      "application/javascript": [
       "\n",
       "        if (window._pyforest_update_imports_cell) { window._pyforest_update_imports_cell('import matplotlib.pyplot as plt\\nimport seaborn as sns\\nimport pandas as pd'); }\n",
       "    "
      ],
      "text/plain": [
       "<IPython.core.display.Javascript object>"
      ]
     },
     "metadata": {},
     "output_type": "display_data"
    },
    {
     "name": "stdout",
     "output_type": "stream",
     "text": [
      "The accuracy of our confusion matrix is:  0.9701\n",
      "The accuracy for label 0 is 0.9898\n",
      "The accuracy for label 1 is 0.9912\n",
      "The accuracy for label 2 is 0.968\n",
      "The accuracy for label 3 is 0.9644\n",
      "The accuracy for label 4 is 0.9715\n",
      "The accuracy for label 5 is 0.9608\n",
      "The accuracy for label 6 is 0.9812\n",
      "The accuracy for label 7 is 0.9591\n",
      "The accuracy for label 8 is 0.961\n",
      "The accuracy for label 9 is 0.9514\n"
     ]
    },
    {
     "data": {
      "image/png": "[encoded data removed]",
      "text/plain": [
       "<Figure size 1296x576 with 2 Axes>"
      ]
     },
     "metadata": {},
     "output_type": "display_data"
    }
   ],
   "source": [
    "y_pred = forest_clf.predict(binarizer.transform(X_test))\n",
    "\n",
    "cfm = np.array(confusion_matrix(y_test,y_pred))\n",
    "df_cm = pd.DataFrame(cfm, range(10),\n",
    "                  range(10))\n",
    "plt.figure(figsize = (18,8))\n",
    "sns.set(font_scale=1.2)#for label size\n",
    "ax = sns.heatmap(df_cm, annot=True, annot_kws={\"size\": 12})\n",
    "bottom, top = ax.get_ylim()\n",
    "ax.set_ylim(bottom + 0.5, top - 0.5);\n",
    "\n",
    "#To calculate accuracy:\n",
    "diagonal_sum = cfm.trace()\n",
    "sum_of_all_elements = cfm.sum()\n",
    "print(\"The accuracy of our confusion matrix is: \", diagonal_sum / sum_of_all_elements)\n",
    "\n",
    "for i in range(0,10):\n",
    "    acc_i = np.round(cfm[i,i]/sum(cfm[i,:]),4)\n",
    "    print(\"The accuracy for label {} is {}\".format(i, acc_i))"
   ]
  },
  {
   "cell_type": "markdown",
   "metadata": {},
   "source": [
    "Comparing the confusion matrices from the decision tree vs. random forest it is clear that the Random Forest Classifier generalizes much better to the test data than the decision tree. The Decision Tree has a hard time distinguising between 3 and 5 (much like the Naive Bayes classifier), although the Random Forest does a much better job.\n",
    "\n",
    "When it comes to feature importance we see that the Decision Tree has much more of a power law distribution in comparison to the Random Forest, suggesting that the decision tree manages to capture fewer informative features than the Random Forest, which aligns with their respective performance"
   ]
  },
  {
   "cell_type": "markdown",
   "metadata": {
    "colab_type": "text",
    "id": "k0GSFGrtOF4B"
   },
   "source": [
    "## References\n",
    "- https://www.analyticsvidhya.com/blog/2014/06/introduction-random-forest-simplified/"
   ]
  }
 ],
 "metadata": {
  "colab": {
   "collapsed_sections": [],
   "name": "Decision Trees - Exercise.ipynb",
   "provenance": [],
   "version": "0.3.2"
  },
  "kernelspec": {
   "display_name": "Python 3",
   "language": "python",
   "name": "python3"
  },
  "language_info": {
   "codemirror_mode": {
    "name": "ipython",
    "version": 3
   },
   "file_extension": ".py",
   "mimetype": "text/x-python",
   "name": "python",
   "nbconvert_exporter": "python",
   "pygments_lexer": "ipython3",
   "version": "3.7.5"
  }
 },
 "nbformat": 4,
 "nbformat_minor": 1
}
